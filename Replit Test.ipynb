{
 "cells": [
  {
   "cell_type": "code",
   "execution_count": 2,
   "id": "b81ff453",
   "metadata": {},
   "outputs": [],
   "source": [
    "import pandas as pd\n",
    "import numpy as np"
   ]
  },
  {
   "cell_type": "markdown",
   "id": "7fe9a9c1",
   "metadata": {},
   "source": [
    "## Project 2"
   ]
  },
  {
   "cell_type": "code",
   "execution_count": 37,
   "id": "0dac13cf",
   "metadata": {
    "scrolled": true
   },
   "outputs": [],
   "source": [
    "main = pd.read_csv('https://raw.githubusercontent.com/iamvaibh9412/Replit_Project_Capabl/main/Replit%20test%20cases%20-%20Main%20Data.csv')\n",
    "t1 = pd.read_csv('https://raw.githubusercontent.com/iamvaibh9412/Replit_Project_Capabl/main/Replit%20test%20cases%20-%20T1.csv')\n",
    "t2 = pd.read_csv('https://raw.githubusercontent.com/iamvaibh9412/Replit_Project_Capabl/main/Replit%20test%20cases%20-%20T2.csv')\n",
    "t3 = pd.read_csv('https://raw.githubusercontent.com/iamvaibh9412/Replit_Project_Capabl/main/Replit%20test%20cases%20-%20T3.csv')\n",
    "t4 = pd.read_csv('https://raw.githubusercontent.com/iamvaibh9412/Replit_Project_Capabl/main/Replit%20test%20cases%20-%20T4.csv')\n",
    "t5 = pd.read_csv('https://raw.githubusercontent.com/iamvaibh9412/Replit_Project_Capabl/main/Replit%20test%20cases%20-%20T5.csv')"
   ]
  },
  {
   "cell_type": "markdown",
   "id": "47330767",
   "metadata": {},
   "source": [
    "### Country having Maximum Confirmed and Death cases"
   ]
  },
  {
   "cell_type": "code",
   "execution_count": 38,
   "id": "73bd3d12",
   "metadata": {},
   "outputs": [
    {
     "name": "stdout",
     "output_type": "stream",
     "text": [
      "US\n",
      "US\n"
     ]
    }
   ],
   "source": [
    "# Main\n",
    "print(main[main['Confirmed']==main['Confirmed'].max()]['Country/Region'].values[0])\n",
    "print(main[main['Deaths']==main['Deaths'].max()]['Country/Region'].values[0])"
   ]
  },
  {
   "cell_type": "code",
   "execution_count": 39,
   "id": "683e57b2",
   "metadata": {},
   "outputs": [
    {
     "name": "stdout",
     "output_type": "stream",
     "text": [
      "Brazil\n",
      "Brazil\n"
     ]
    }
   ],
   "source": [
    "#T1\n",
    "print(t1[t1['Confirmed']==t1['Confirmed'].max()]['Country/Region'].values[0])\n",
    "print(t1[t1['Deaths']==t1['Deaths'].max()]['Country/Region'].values[0])"
   ]
  },
  {
   "cell_type": "code",
   "execution_count": 41,
   "id": "48c4717e",
   "metadata": {},
   "outputs": [
    {
     "name": "stdout",
     "output_type": "stream",
     "text": [
      "Chile\n",
      "Chile\n"
     ]
    }
   ],
   "source": [
    "#T2\n",
    "print(t2[t2['Confirmed']==t2['Confirmed'].max()]['Country/Region'].values[0])\n",
    "print(t2[t2['Deaths']==t2['Deaths'].max()]['Country/Region'].values[0])"
   ]
  },
  {
   "cell_type": "code",
   "execution_count": 42,
   "id": "760c88ec",
   "metadata": {},
   "outputs": [
    {
     "name": "stdout",
     "output_type": "stream",
     "text": [
      "India\n",
      "Italy\n"
     ]
    }
   ],
   "source": [
    "#T3\n",
    "print(t3[t3['Confirmed']==t3['Confirmed'].max()]['Country/Region'].values[0])\n",
    "print(t3[t3['Deaths']==t3['Deaths'].max()]['Country/Region'].values[0])"
   ]
  },
  {
   "cell_type": "code",
   "execution_count": 44,
   "id": "4a9fd94b",
   "metadata": {},
   "outputs": [
    {
     "name": "stdout",
     "output_type": "stream",
     "text": [
      "Russia\n",
      "Mexico\n"
     ]
    }
   ],
   "source": [
    "#T4\n",
    "print(t4[t4['Confirmed']==t4['Confirmed'].max()]['Country/Region'].values[0])\n",
    "print(t4[t4['Deaths']==t4['Deaths'].max()]['Country/Region'].values[0])"
   ]
  },
  {
   "cell_type": "code",
   "execution_count": 45,
   "id": "af395d1f",
   "metadata": {},
   "outputs": [
    {
     "name": "stdout",
     "output_type": "stream",
     "text": [
      "US\n",
      "US\n"
     ]
    }
   ],
   "source": [
    "#T5\n",
    "print(t5[t5['Confirmed']==t5['Confirmed'].max()]['Country/Region'].values[0])\n",
    "print(t5[t5['Deaths']==t5['Deaths'].max()]['Country/Region'].values[0])"
   ]
  },
  {
   "cell_type": "markdown",
   "id": "c4d8d5d6",
   "metadata": {},
   "source": [
    "## PROJECT 3"
   ]
  },
  {
   "cell_type": "markdown",
   "id": "8b62d49b",
   "metadata": {},
   "source": [
    "## Finding the average cases in a country\n",
    "## Total number of Deaths\n",
    "## Finding total number of confirmed cases"
   ]
  },
  {
   "cell_type": "code",
   "execution_count": 52,
   "id": "129ae2fa",
   "metadata": {},
   "outputs": [
    {
     "name": "stdout",
     "output_type": "stream",
     "text": [
      "The average cases in a country 1222.957219251337\n",
      "The total number of deaths are :  654036\n",
      "The total number of confirmed cases are :  16480485\n"
     ]
    }
   ],
   "source": [
    "# main\n",
    "\n",
    "def avg(data):\n",
    "    total=0\n",
    "    for i in data:\n",
    "        total+=i\n",
    "    return total/(len(data))\n",
    "print('The average cases in a country',avg(list(main['New cases'])))\n",
    "\n",
    "def total(data):\n",
    "    sum=0\n",
    "    for i in data:\n",
    "        sum+=i\n",
    "    return sum\n",
    "print('The total number of deaths are : ',sum(list(main['Deaths'])))\n",
    "\n",
    "def total(data):\n",
    "    sum=0\n",
    "    for i in data:\n",
    "        sum+=i\n",
    "    return sum\n",
    "print('The total number of confirmed cases are : ',sum(list(main['Confirmed'])))\n"
   ]
  },
  {
   "cell_type": "code",
   "execution_count": 54,
   "id": "ba2f4588",
   "metadata": {},
   "outputs": [
    {
     "name": "stdout",
     "output_type": "stream",
     "text": [
      "The average cases in a country 1255.7586206896551\n",
      "The total number of deaths are :  112237\n",
      "The total number of confirmed cases are :  3281350\n"
     ]
    }
   ],
   "source": [
    "# T1\n",
    "\n",
    "def avg(data):\n",
    "    total=0\n",
    "    for i in data:\n",
    "        total+=i\n",
    "    return total/(len(data))\n",
    "print('The average cases in a country',avg(list(t1['New cases'])))\n",
    "\n",
    "def total(data):\n",
    "    sum=0\n",
    "    for i in data:\n",
    "        sum+=i\n",
    "    return sum\n",
    "print('The total number of deaths are : ',sum(list(t1['Deaths'])))\n",
    "\n",
    "def total(data):\n",
    "    sum=0\n",
    "    for i in data:\n",
    "        sum+=i\n",
    "    return sum\n",
    "print('The total number of confirmed cases are : ',sum(list(t1['Confirmed'])))"
   ]
  },
  {
   "cell_type": "code",
   "execution_count": 55,
   "id": "30c4b874",
   "metadata": {},
   "outputs": [
    {
     "name": "stdout",
     "output_type": "stream",
     "text": [
      "The average cases in a country 815.0344827586207\n",
      "The total number of deaths are :  45709\n",
      "The total number of confirmed cases are :  1180691\n"
     ]
    }
   ],
   "source": [
    "# T2\n",
    "\n",
    "def avg(data):\n",
    "    total=0\n",
    "    for i in data:\n",
    "        total+=i\n",
    "    return total/(len(data))\n",
    "print('The average cases in a country',avg(list(t2['New cases'])))\n",
    "\n",
    "def total(data):\n",
    "    sum=0\n",
    "    for i in data:\n",
    "        sum+=i\n",
    "    return sum\n",
    "print('The total number of deaths are : ',sum(list(t2['Deaths'])))\n",
    "\n",
    "def total(data):\n",
    "    sum=0\n",
    "    for i in data:\n",
    "        sum+=i\n",
    "    return sum\n",
    "print('The total number of confirmed cases are : ',sum(list(t2['Confirmed'])))"
   ]
  },
  {
   "cell_type": "code",
   "execution_count": 56,
   "id": "24e187e0",
   "metadata": {},
   "outputs": [
    {
     "name": "stdout",
     "output_type": "stream",
     "text": [
      "The average cases in a country 1971.4666666666667\n",
      "The total number of deaths are :  141093\n",
      "The total number of confirmed cases are :  2958803\n"
     ]
    }
   ],
   "source": [
    "#T3\n",
    "\n",
    "# T1\n",
    "\n",
    "def avg(data):\n",
    "    total=0\n",
    "    for i in data:\n",
    "        total+=i\n",
    "    return total/(len(data))\n",
    "print('The average cases in a country',avg(list(t3['New cases'])))\n",
    "\n",
    "def total(data):\n",
    "    sum=0\n",
    "    for i in data:\n",
    "        sum+=i\n",
    "    return sum\n",
    "print('The total number of deaths are : ',sum(list(t3['Deaths'])))\n",
    "\n",
    "def total(data):\n",
    "    sum=0\n",
    "    for i in data:\n",
    "        sum+=i\n",
    "    return sum\n",
    "print('The total number of confirmed cases are : ',sum(list(t3['Confirmed'])))"
   ]
  },
  {
   "cell_type": "code",
   "execution_count": 57,
   "id": "bac0aa8e",
   "metadata": {},
   "outputs": [
    {
     "name": "stdout",
     "output_type": "stream",
     "text": [
      "The average cases in a country 743.6862745098039\n",
      "The total number of deaths are :  104061\n",
      "The total number of confirmed cases are :  2802552\n"
     ]
    }
   ],
   "source": [
    "# T4\n",
    "\n",
    "def avg(data):\n",
    "    total=0\n",
    "    for i in data:\n",
    "        total+=i\n",
    "    return total/(len(data))\n",
    "print('The average cases in a country',avg(list(t4['New cases'])))\n",
    "\n",
    "def total(data):\n",
    "    sum=0\n",
    "    for i in data:\n",
    "        sum+=i\n",
    "    return sum\n",
    "print('The total number of deaths are : ',sum(list(t4['Deaths'])))\n",
    "\n",
    "def total(data):\n",
    "    sum=0\n",
    "    for i in data:\n",
    "        sum+=i\n",
    "    return sum\n",
    "print('The total number of confirmed cases are : ',sum(list(t4['Confirmed'])))"
   ]
  },
  {
   "cell_type": "code",
   "execution_count": 59,
   "id": "75395c4a",
   "metadata": {},
   "outputs": [
    {
     "name": "stdout",
     "output_type": "stream",
     "text": [
      "The average cases in a country 1491.0\n",
      "The total number of deaths are :  250936\n",
      "The total number of confirmed cases are :  6257089\n"
     ]
    }
   ],
   "source": [
    "# T5\n",
    "\n",
    "def avg(data):\n",
    "    total=0\n",
    "    for i in data:\n",
    "        total+=i\n",
    "    return total/(len(data))\n",
    "print('The average cases in a country',avg(list(t5['New cases'])))\n",
    "\n",
    "def total(data):\n",
    "    sum=0\n",
    "    for i in data:\n",
    "        sum+=i\n",
    "    return sum\n",
    "print('The total number of deaths are : ',sum(list(t5['Deaths'])))\n",
    "\n",
    "def total(data):\n",
    "    sum=0\n",
    "    for i in data:\n",
    "        sum+=i\n",
    "    return sum\n",
    "print('The total number of confirmed cases are : ',sum(list(t5['Confirmed'])))"
   ]
  },
  {
   "cell_type": "code",
   "execution_count": null,
   "id": "5e7fe6a3",
   "metadata": {},
   "outputs": [],
   "source": []
  }
 ],
 "metadata": {
  "kernelspec": {
   "display_name": "Python 3 (ipykernel)",
   "language": "python",
   "name": "python3"
  },
  "language_info": {
   "codemirror_mode": {
    "name": "ipython",
    "version": 3
   },
   "file_extension": ".py",
   "mimetype": "text/x-python",
   "name": "python",
   "nbconvert_exporter": "python",
   "pygments_lexer": "ipython3",
   "version": "3.9.13"
  }
 },
 "nbformat": 4,
 "nbformat_minor": 5
}
